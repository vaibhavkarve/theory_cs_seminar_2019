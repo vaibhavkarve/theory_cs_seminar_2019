{
 "cells": [
  {
   "cell_type": "markdown",
   "metadata": {
    "slideshow": {
     "slide_type": "slide"
    }
   },
   "source": [
    "# Looking at unsatisfiable 2SAT through the lens of simple graphs.\n",
    "---\n",
    "\n",
    "### Vaibhav Karve\n",
    "\n",
    "*Mathematics PhD 2020*\n",
    "\n",
    "*University of Illinois at Urbana-Champaign*\n",
    "\n",
    "**Theory CS Seminar, 2019-10-07**"
   ]
  },
  {
   "cell_type": "markdown",
   "metadata": {
    "slideshow": {
     "slide_type": "slide"
    }
   },
   "source": [
    "# Joint work with\n",
    "### Anil Hirani, UIUC Math\n",
    "(Previously @ CS, UIUC)\n",
    "\n",
    "<img src=\"hirani.png\" />"
   ]
  },
  {
   "cell_type": "markdown",
   "metadata": {
    "slideshow": {
     "slide_type": "slide"
    }
   },
   "source": [
    "## Who will go to the party?\n",
    "<img src=\"animal_party.jpg\" />"
   ]
  },
  {
   "cell_type": "markdown",
   "metadata": {
    "slideshow": {
     "slide_type": "slide"
    }
   },
   "source": [
    "## Who will go to the party?\n",
    "---\n",
    "\n",
    "1. Ant will definitely go if Bison goes.\n",
    "<br />\n",
    "\n",
    "2. Bison won't go if Cheetah goes.\n",
    "<br />\n",
    "\n",
    "3. Cheetah cannot go unless Dodo goes.\n",
    "<br />\n",
    "\n",
    "4. Bison and Dodo will go together or not at all."
   ]
  },
  {
   "cell_type": "markdown",
   "metadata": {
    "slideshow": {
     "slide_type": "fragment"
    }
   },
   "source": [
    "## Three possible solutions:\n",
    "\n",
    "1. Only **Ant** goes.\n",
    "<br />\n",
    "\n",
    "2. **Ant**, **Bison** and **Dodo** go.\n",
    "<br />\n",
    "\n",
    "3. No one goes. 🙁"
   ]
  },
  {
   "cell_type": "markdown",
   "metadata": {
    "slideshow": {
     "slide_type": "slide"
    }
   },
   "source": [
    "## Who will go to the party?\n",
    "\n",
    "---\n",
    "\n",
    "1. Ant will definitely go if Bison goes.\n",
    "<br />\n",
    "\n",
    "2. Bison won't go if Cheetah goes.\n",
    "<br />\n",
    "\n",
    "3. Cheetah cannot go unless Dodo goes.\n",
    "<br />\n",
    "\n",
    "4. Bison and Dodo will go together or not at all.\n",
    "<br />\n",
    "    \n",
    "5. <b style=\"color:blue;\"> If the Ant goes, then the Cheetah must go.</b>\n",
    "    \n",
    "## Possible solutions:\n",
    "\n",
    "1. ~~Only **Ant** goes.~~\n",
    "<br />\n",
    "\n",
    "2. ~~**Ant**, **Bison** and **Dodo** go.~~\n",
    "<br />\n",
    "\n",
    "3. No one goes."
   ]
  },
  {
   "cell_type": "markdown",
   "metadata": {
    "slideshow": {
     "slide_type": "slide"
    }
   },
   "source": [
    "## Who will go to the party?\n",
    "\n",
    "---\n",
    "\n",
    "1. Ant will definitely go if Bison goes.\n",
    "<br />\n",
    "\n",
    "2. Bison won't go if Cheetah goes.\n",
    "<br />\n",
    "\n",
    "3. Cheetah cannot go unless Dodo goes.\n",
    "<br />\n",
    "\n",
    "4. Bison and Dodo will go together or not at all.\n",
    "<br />\n",
    "    \n",
    "5. <b style=\"color:blue;\"> If the Ant goes, then the Cheetah must go.</b>\n",
    "<br />\n",
    "\n",
    "6. <b style=\"color:red;\"> If the Dodo doesn't go, then the Ant must go.</b>\n",
    "\n",
    "    \n",
    "## Possible solutions:\n",
    "\n",
    "1. ~~Only **Ant** goes.~~\n",
    "<br />\n",
    "\n",
    "2. ~~**Ant**, **Bison** and **Dodo** go.~~\n",
    "<br />\n",
    "\n",
    "3. ~~No one goes.~~"
   ]
  },
  {
   "cell_type": "markdown",
   "metadata": {
    "slideshow": {
     "slide_type": "slide"
    }
   },
   "source": [
    "## How many constraints are too many?"
   ]
  },
  {
   "cell_type": "markdown",
   "metadata": {
    "slideshow": {
     "slide_type": "fragment"
    }
   },
   "source": [
    "## When is a party not happening?"
   ]
  },
  {
   "cell_type": "markdown",
   "metadata": {
    "slideshow": {
     "slide_type": "slide"
    }
   },
   "source": [
    "## Boolean Satisfiability (SAT)\n",
    "\n",
    "---\n",
    "$$(a \\vee \\neg b \\vee c)\\wedge (\\neg a \\vee c \\vee d) \\wedge (b \\vee d)$$\n",
    "\n",
    "\"When can we satisfy all the conditions?\"\n",
    "<br /><br />\n",
    "\n",
    "\"When do the conditions become un-satisfiable?\"\n",
    "<br /><br />\n",
    "\n",
    "\"Can we find an efficient algorithm to decide between the two?\""
   ]
  },
  {
   "cell_type": "markdown",
   "metadata": {
    "slideshow": {
     "slide_type": "fragment"
    }
   },
   "source": [
    "### Obvious Strategy\n",
    "\n",
    "- Bruteforce truth tables\n",
    "\n",
    "### More efficient algorithms\n",
    "\n",
    "- Conflict-driven clause learning\n",
    "- DPLL algorithms\n",
    "- Stochastic local search algorithms\n",
    "\n",
    "### We focus on non-algorithmic questions"
   ]
  },
  {
   "cell_type": "markdown",
   "metadata": {
    "slideshow": {
     "slide_type": "slide"
    }
   },
   "source": [
    "## Who cares about SAT?\n",
    "---"
   ]
  },
  {
   "cell_type": "markdown",
   "metadata": {
    "slideshow": {
     "slide_type": "fragment"
    }
   },
   "source": [
    "Animal Kingdom party organizers"
   ]
  },
  {
   "cell_type": "markdown",
   "metadata": {
    "slideshow": {
     "slide_type": "fragment"
    }
   },
   "source": [
    "Stephen Cook & Leonid Levin<br>\n",
    "(first NP-complete problem, 1970s)"
   ]
  },
  {
   "cell_type": "markdown",
   "metadata": {
    "slideshow": {
     "slide_type": "fragment"
    }
   },
   "source": [
    "Mathematicians, Logicians & Computer Scientists"
   ]
  },
  {
   "cell_type": "markdown",
   "metadata": {
    "slideshow": {
     "slide_type": "fragment"
    }
   },
   "source": [
    "Aspiring millionaires (P vs. NP)"
   ]
  },
  {
   "cell_type": "markdown",
   "metadata": {
    "slideshow": {
     "slide_type": "slide"
    }
   },
   "source": [
    "## Who else cares about SAT?\n",
    "---"
   ]
  },
  {
   "cell_type": "markdown",
   "metadata": {
    "slideshow": {
     "slide_type": "fragment"
    }
   },
   "source": [
    "Graph theorists (graphists?)\n",
    "    \n",
    "   - Find complete subgraphs\n",
    "   - Vertex cover problem\n",
    "   - Directed Hamiltonian cycle problem\n",
    "   - Undirected Hamiltonian cycle problem\n",
    "   - Graph coloring problem"
   ]
  },
  {
   "cell_type": "markdown",
   "metadata": {
    "slideshow": {
     "slide_type": "fragment"
    }
   },
   "source": [
    "Number theorists\n",
    "   - Partition problem\n",
    "   - Latin/Magic square problem"
   ]
  },
  {
   "cell_type": "markdown",
   "metadata": {
    "slideshow": {
     "slide_type": "slide"
    }
   },
   "source": [
    "## Who else cares about SAT?\n",
    "---"
   ]
  },
  {
   "cell_type": "markdown",
   "metadata": {
    "slideshow": {
     "slide_type": "fragment"
    }
   },
   "source": [
    "Gamers\n",
    "   - Super Mario Bros.\n",
    "   - Donkey Kong\n",
    "   - Pokemon\n",
    "   - Optimal Rubik's cube moves"
   ]
  },
  {
   "cell_type": "markdown",
   "metadata": {
    "slideshow": {
     "slide_type": "fragment"
    }
   },
   "source": [
    "Political Analysts"
   ]
  },
  {
   "cell_type": "markdown",
   "metadata": {
    "slideshow": {
     "slide_type": "fragment"
    }
   },
   "source": [
    "City Planners"
   ]
  },
  {
   "cell_type": "markdown",
   "metadata": {
    "slideshow": {
     "slide_type": "fragment"
    }
   },
   "source": [
    "Businesses"
   ]
  },
  {
   "cell_type": "markdown",
   "metadata": {
    "slideshow": {
     "slide_type": "slide"
    }
   },
   "source": [
    "## Solving SAT is difficult*\n",
    "\n",
    "\\*especially 3SAT."
   ]
  },
  {
   "cell_type": "markdown",
   "metadata": {
    "slideshow": {
     "slide_type": "fragment"
    }
   },
   "source": [
    "### ''When you don't know the answer, change the question!''"
   ]
  },
  {
   "cell_type": "markdown",
   "metadata": {
    "slideshow": {
     "slide_type": "slide"
    }
   },
   "source": [
    "## Modify the question\n",
    "\n",
    "---\n",
    "\n",
    "1. Ant will definitely go if Bison goes.\n",
    "<br><br>\n",
    "\n",
    "2. Bison won't go if Cheetah goes.\n",
    "<br><br>\n",
    "\n",
    "3. Cheetah cannot go unless Dodo goes.\n",
    "<br><br>\n",
    "\n",
    "4. Bison and Dodo will go together or not at all."
   ]
  },
  {
   "cell_type": "markdown",
   "metadata": {
    "slideshow": {
     "slide_type": "slide"
    }
   },
   "source": [
    "## Modify the question\n",
    "\n",
    "---\n",
    "\n",
    "1. Ant --------------------- Bison ----.\n",
    "<br>\n",
    "\n",
    "2. Bison ----------- Cheetah ----.\n",
    "<br>\n",
    "\n",
    "3. Cheetah ---------------- Dodo ----.\n",
    "<br>\n",
    "\n",
    "4. Bison --- Dodo ------------------------------."
   ]
  },
  {
   "cell_type": "code",
   "execution_count": 1,
   "metadata": {
    "slideshow": {
     "slide_type": "skip"
    }
   },
   "outputs": [],
   "source": [
    "G = Graph([(\"Ant\", \"Bison\"), (\"Bison\", \"Cheetah\"), (\"Cheetah\", \"Dodo\"), (\"Bison\", \"Dodo\")])\n",
    "Modified_Problem = G.plot(vertex_size=2000, vertex_labels=True, figsize = (2,2), layout=\"circular\")"
   ]
  },
  {
   "cell_type": "code",
   "execution_count": 2,
   "metadata": {
    "slideshow": {
     "slide_type": "fragment"
    }
   },
   "outputs": [
    {
     "data": {
      "image/png": "[encoded data removed]",
      "text/plain": [
       "Graphics object consisting of 9 graphics primitives"
      ]
     },
     "execution_count": 2,
     "metadata": {},
     "output_type": "execute_result"
    }
   ],
   "source": [
    "Modified_Problem"
   ]
  },
  {
   "cell_type": "markdown",
   "metadata": {
    "slideshow": {
     "slide_type": "slide"
    }
   },
   "source": [
    "## SAT $\\longrightarrow$ Graph theory\n",
    "\n",
    "### Animal kingdom party $\\longmapsto$ Animal kingdom graph"
   ]
  },
  {
   "cell_type": "markdown",
   "metadata": {
    "slideshow": {
     "slide_type": "slide"
    }
   },
   "source": [
    "## 2SAT instance $\\longmapsto$ Multi-Graph\n",
    "\n",
    "<br />\n",
    "\n",
    "$(a \\vee b)\\wedge(a\\vee \\neg c)\\wedge (b\\vee d)\\wedge (a\\vee \\neg b)\\wedge(b \\vee c)$\n",
    "<img src=\"example.png\" />"
   ]
  },
  {
   "cell_type": "markdown",
   "metadata": {
    "slideshow": {
     "slide_type": "fragment"
    }
   },
   "source": [
    "Complicated graph $\\implies$ Unsatisfiable party\n",
    "\n",
    "Sparse graph $\\implies$ At least one solution exists"
   ]
  },
  {
   "cell_type": "markdown",
   "metadata": {
    "slideshow": {
     "slide_type": "skip"
    }
   },
   "source": [
    "## Definition:\n",
    "\n",
    "#### A Multi-Graph is **unsatisfiable** if\n",
    "* $\\exists$ a corresponding **unsatisfiable** 2SAT instance.\n",
    "\n",
    "#### A Multi-Graph is **satisfiable** if\n",
    "* $\\forall$ corresponding 2SAT instances, the instances are **satisfiable**."
   ]
  },
  {
   "cell_type": "markdown",
   "metadata": {
    "slideshow": {
     "slide_type": "slide"
    }
   },
   "source": [
    "# Results\n",
    "[Hirani, K.]"
   ]
  },
  {
   "cell_type": "markdown",
   "metadata": {
    "slideshow": {
     "slide_type": "fragment"
    }
   },
   "source": [
    "### Simple graphs suffice\n",
    "\n",
    "2SAT instance $\\longmapsto$ ~~Multi-Graph~~\n",
    "\n",
    "2SAT instance $\\longmapsto$ Simple-Graph"
   ]
  },
  {
   "cell_type": "markdown",
   "metadata": {
    "slideshow": {
     "slide_type": "slide"
    }
   },
   "source": [
    "# Results\n",
    "[Hirani, K.]"
   ]
  },
  {
   "cell_type": "markdown",
   "metadata": {
    "slideshow": {
     "slide_type": "fragment"
    }
   },
   "source": [
    "### Subgraphs preserve unsatisfiability\n",
    "* $G$ (subgraph) $H$\n",
    "* $G$ unsatisfiable <br>\n",
    "$\\implies$ $H$ unsatisfiable"
   ]
  },
  {
   "cell_type": "markdown",
   "metadata": {
    "slideshow": {
     "slide_type": "fragment"
    }
   },
   "source": [
    "### Homeomorphism preserves satisfiability + unsatisfiability\n",
    "\n",
    "* $G$ (homeomorphic) $H$\n",
    "* $G$ unsatisfiable <br>\n",
    "$\\iff$ H unsatisfiable\n",
    "\n",
    "#### ❗Deeper topological connections"
   ]
  },
  {
   "cell_type": "markdown",
   "metadata": {
    "slideshow": {
     "slide_type": "slide"
    }
   },
   "source": [
    "### Other graph operations\n",
    "\n",
    "  - Subgraphing\n",
    "  - Edge-deletion\n",
    "  - Vertex-deletion\n",
    "  - Edge-contractions\n",
    "  - Reduction of cycles\n",
    "  - Reduction of multi-edges"
   ]
  },
  {
   "cell_type": "markdown",
   "metadata": {
    "slideshow": {
     "slide_type": "slide"
    }
   },
   "source": [
    "## Satisfiable graph families\n",
    "\n",
    "* Line Graphs\n",
    "* Cycle Graphs <br>\n",
    "$\\vdots$"
   ]
  },
  {
   "cell_type": "markdown",
   "metadata": {
    "slideshow": {
     "slide_type": "slide"
    }
   },
   "source": [
    "# Unsatisfiable graph\n",
    "\n",
    "(via Computational Search)\n",
    "\n",
    "Developed a library `graphsat`:\n",
    "* Python3+\n",
    "* Open-source (soon)\n",
    "* Handles SAT instances\n",
    "* Handles Multi-Graphs\n",
    "* Handles Hyper-Graphs\n",
    "* Type-checked using python3's `typing` module\n",
    "* Software verification <br>\n",
    "  (via Lean-Interactive-Theorem-Prover) <br>\n",
    "  (coming soon...)\n"
   ]
  },
  {
   "cell_type": "markdown",
   "metadata": {
    "slideshow": {
     "slide_type": "slide"
    }
   },
   "source": [
    "# Main result\n",
    "\n",
    "### The following graphs are obstructions to satisfiability:"
   ]
  },
  {
   "cell_type": "markdown",
   "metadata": {
    "slideshow": {
     "slide_type": "fragment"
    }
   },
   "source": [
    "<table>\n",
    "<td><img src=\"K4.png\" /></td>\n",
    "<td><img src=\"Butterfly.png\"/></td>\n",
    "<td><img src=\"K23.png\"/></td>\n",
    "<td><img src=\"bowtie.png\"/></td>\n",
    "</table>\n",
    "\n",
    "### _Minimal criminals!_"
   ]
  },
  {
   "cell_type": "markdown",
   "metadata": {
    "slideshow": {
     "slide_type": "slide"
    }
   },
   "source": [
    "# Extending to 3SAT\n",
    "\n",
    "### 3SAT instance $\\longmapsto$ Multi-Hyper-Graph"
   ]
  },
  {
   "cell_type": "markdown",
   "metadata": {
    "slideshow": {
     "slide_type": "slide"
    }
   },
   "source": [
    "# Work-in-progress\n",
    "\n",
    "* Cannot avoid multi-edges\n",
    "  <br />\n",
    "\n",
    "* Exponential explosion of cases to analyze\n",
    "  <br />\n",
    "\n",
    "* Graph operations for HyperGraphs are more complex\n",
    "  <br />\n",
    "\n",
    "* Subtle effects on HyperGraph (un)satisfiability."
   ]
  },
  {
   "cell_type": "markdown",
   "metadata": {
    "slideshow": {
     "slide_type": "fragment"
    }
   },
   "source": [
    "## Key question: is the list of minimal criminals\n",
    "* finite or infinite?\n",
    " <br />\n",
    "\n",
    "* easy to characterize?"
   ]
  },
  {
   "cell_type": "markdown",
   "metadata": {
    "slideshow": {
     "slide_type": "slide"
    }
   },
   "source": [
    "<table>\n",
    "<td><img src=\"3sat_1.jpeg\" width=\"350\"/></td>\n",
    "<td><img src=\"3sat_2.jpeg\" width=\"350\"/></td>\n",
    "<td><img src=\"3sat_3.jpeg\" width=\"350\"/></td>\n",
    "</table>"
   ]
  },
  {
   "cell_type": "markdown",
   "metadata": {
    "slideshow": {
     "slide_type": "slide"
    }
   },
   "source": [
    "# References\n",
    "\n",
    "* **The complete set of minimal simple graphs that support unsatisfiable 2-CNFs** <br>\n",
    "  Vaibhav Karve, Anil Hirani <br>\n",
    "  [arxiv.org/abs/1812.10849](https://arxiv.org/abs/1812.10849)\n",
    "\n"
   ]
  }
 ],
 "metadata": {
  "celltoolbar": "Slideshow",
  "kernelspec": {
   "display_name": "SageMath 8.1",
   "language": "",
   "name": "sagemath"
  },
  "language_info": {
   "codemirror_mode": {
    "name": "ipython",
    "version": 2
   },
   "file_extension": ".py",
   "mimetype": "text/x-python",
   "name": "python",
   "nbconvert_exporter": "python",
   "pygments_lexer": "ipython2",
   "version": "2.7.15"
  }
 },
 "nbformat": 4,
 "nbformat_minor": 2
}

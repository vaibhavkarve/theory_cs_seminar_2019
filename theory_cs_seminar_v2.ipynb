{
 "cells": [
  {
   "cell_type": "markdown",
   "metadata": {
    "slideshow": {
     "slide_type": "slide"
    }
   },
   "source": [
    "# Looking at unsatisfiable SAT through the lens of graph theory\n",
    "---\n",
    "\n",
    "### Vaibhav Karve\n",
    "\n",
    "*Mathematics PhD 2020*\n",
    "\n",
    "*University of Illinois at Urbana-Champaign*\n",
    "\n",
    "**Theory CS Seminar, 2019-10-07**"
   ]
  },
  {
   "cell_type": "markdown",
   "metadata": {
    "slideshow": {
     "slide_type": "slide"
    }
   },
   "source": [
    "# Joint work with\n",
    "### Anil Hirani, UIUC Math\n",
    "(Previously @ CS, UIUC)\n",
    "\n",
    "<img src=\"hirani.png\" width=\"150\"/>"
   ]
  },
  {
   "cell_type": "markdown",
   "metadata": {
    "slideshow": {
     "slide_type": "slide"
    }
   },
   "source": [
    "## Boolean Satisfiability (SAT)\n",
    "\n",
    "---\n",
    "$$(a \\vee \\neg b \\vee c)\\wedge (\\neg a \\vee c \\vee d) \\wedge (b \\vee d)$$\n",
    "\n",
    "### Two outcomes:\n",
    "* Satisfiable\n",
    "* Unsatisfiable\n",
    "\n",
    "### Two variants:\n",
    "* 2SAT\n",
    "* 3SAT\n",
    "\n",
    "### Two types of questions:\n",
    "* Algorithmic (time & memory)\n",
    "* Non-algorithmic (structure of the problem)"
   ]
  },
  {
   "cell_type": "markdown",
   "metadata": {
    "slideshow": {
     "slide_type": "slide"
    }
   },
   "source": [
    "### Obvious Strategy\n",
    "\n",
    "- Bruteforce truth tables\n",
    "\n",
    "### More efficient algorithms\n",
    "\n",
    "- Conflict-driven clause learning\n",
    "- DPLL algorithms\n",
    "- Stochastic local search algorithms\n",
    "\n",
    "##### We focus on non-algorithmic questions"
   ]
  },
  {
   "cell_type": "markdown",
   "metadata": {
    "slideshow": {
     "slide_type": "slide"
    }
   },
   "source": [
    "# SAT background\n",
    "\n",
    "---\n",
    "### Stephen Cook & Leonid Levin\n",
    "(first NP-complete problem, 1970s)\n",
    "\n",
    "### Rich connection with Graph Theory\n",
    "  * Clique problem\n",
    "  * Vertex cover problem\n",
    "  * Directed Hamiltonian cycle\n",
    "  * Undirected Hamiltonian cycle\n",
    "  * Graph coloring problem <br>\n",
    "  $\\qquad\\qquad\\vdots$ <br>\n",
    "  $\\in$ Karp's 21 NP-complete list\n",
    "\n",
    "### P vs. NP"
   ]
  },
  {
   "cell_type": "markdown",
   "metadata": {
    "slideshow": {
     "slide_type": "slide"
    }
   },
   "source": [
    "## SAT $\\longrightarrow$ Graph\n",
    "\n",
    "<br />\n",
    "\n",
    "$(a \\vee b)\\wedge(a\\vee \\neg c)\\wedge (b\\vee d)\\wedge (a\\vee \\neg b)\\wedge(b \\vee c)$\n",
    "<img src=\"example.png\" />"
   ]
  },
  {
   "cell_type": "markdown",
   "metadata": {
    "slideshow": {
     "slide_type": "fragment"
    }
   },
   "source": [
    "* Negations are ignored\n",
    "* Many-to-one map"
   ]
  },
  {
   "cell_type": "markdown",
   "metadata": {
    "slideshow": {
     "slide_type": "fragment"
    }
   },
   "source": [
    "* Multiple clauses $\\longmapsto$ multi-edge"
   ]
  },
  {
   "cell_type": "markdown",
   "metadata": {
    "slideshow": {
     "slide_type": "fragment"
    }
   },
   "source": [
    "* 2SAT clause $\\longmapsto$ simple edge\n",
    "* 3SAT clause $\\longmapsto$ hyper edge"
   ]
  },
  {
   "cell_type": "markdown",
   "metadata": {
    "slideshow": {
     "slide_type": "slide"
    }
   },
   "source": [
    "## Definition:\n",
    "\n",
    "#### A multi-hyper-graph $G$ is\n",
    "* **satisfiable** if every corresponding SAT-instance of the $G$ is satisfiable.\n",
    "* **unsatisfiable** if there exists a corresponding SAT-instance of $G$ that is unsatisfiable."
   ]
  },
  {
   "cell_type": "markdown",
   "metadata": {
    "slideshow": {
     "slide_type": "fragment"
    }
   },
   "source": [
    "## Goal:\n",
    "\n",
    "#### Characterize all unsatisfiable graphs."
   ]
  },
  {
   "cell_type": "markdown",
   "metadata": {
    "slideshow": {
     "slide_type": "slide"
    }
   },
   "source": [
    "## Questions?"
   ]
  },
  {
   "cell_type": "markdown",
   "metadata": {
    "slideshow": {
     "slide_type": "slide"
    }
   },
   "source": [
    "# Example\n",
    "\n",
    "### Satisfiable graph:\n",
    "\n",
    "<img src=\"example.png\" />\n",
    "\n",
    "* $(a \\vee b)\\wedge(a\\vee c)\\wedge (b\\vee d)\\wedge (a\\vee b)\\wedge(b \\vee c)$\n",
    "* $(a \\vee \\neg b)\\wedge(a\\vee c)\\wedge (b\\vee d)\\wedge (a\\vee b)\\wedge(b \\vee c)$\n",
    "* $(\\neg a \\vee b)\\wedge(a\\vee c)\\wedge (b\\vee d)\\wedge (a\\vee b)\\wedge(b \\vee c)$\n",
    "* $(\\neg a \\vee \\neg b)\\wedge(a\\vee c)\\wedge (b\\vee d)\\wedge (a\\vee b)\\wedge(b \\vee c)$\n",
    "* $(a \\vee b)\\wedge(\\neg a\\vee c)\\wedge (b\\vee d)\\wedge (a\\vee b)\\wedge(b \\vee c)$ <br>\n",
    "$\\qquad\\qquad\\qquad\\vdots$"
   ]
  },
  {
   "cell_type": "markdown",
   "metadata": {
    "slideshow": {
     "slide_type": "slide"
    }
   },
   "source": [
    "# Restrict to 2SAT"
   ]
  },
  {
   "cell_type": "markdown",
   "metadata": {
    "slideshow": {
     "slide_type": "fragment"
    }
   },
   "source": [
    "#### Corresponding graphs are Multi-Graphs<br> (no hyper edges)"
   ]
  },
  {
   "cell_type": "markdown",
   "metadata": {
    "slideshow": {
     "slide_type": "fragment"
    }
   },
   "source": [
    "## Result 1: Simple graphs suffice\n",
    "Given a 2SAT instance $S$, $\\exists$ $S'$ such that $S\\sim S'$ (equisatisfiable) and $S'$ is either trivial or is supported on a simple graph."
   ]
  },
  {
   "cell_type": "markdown",
   "metadata": {
    "slideshow": {
     "slide_type": "slide"
    }
   },
   "source": [
    "## Result 1: Simple graphs suffice\n",
    "Given a 2SAT instance $S$, $\\exists$ $S'$ such that $S\\sim S'$ (equisatisfiable) and $S'$ is either trivial or is supported on a simple graph."
   ]
  },
  {
   "cell_type": "markdown",
   "metadata": {
    "slideshow": {
     "slide_type": "fragment"
    }
   },
   "source": [
    "#### Proof idea:\n",
    "Edges with multiplicity $4$ <br>\n",
    "  $\\implies$ $(a \\vee b)\\wedge(a \\vee \\neg b) \\wedge (\\neg a \\vee b) \\wedge (\\neg a \\vee \\neg b)$ <br>\n",
    "  $\\implies$ unsatisfiable.\n",
    "\n",
    "Edge with multiplicity $3$ <br>\n",
    "$(a \\vee b)\\wedge(a \\vee \\neg b) \\wedge (\\neg a \\vee b)$ <br>\n",
    "$\\implies$ both $a$ and $b$ must be true. <br>\n",
    "$\\implies$ delete the multi-edge <br>\n",
    "Similarly, for other cases.\n",
    "\n",
    "Edge with multiplicity $2$ <br>\n",
    "$(a \\vee b) \\wedge (a \\vee \\neg b)$ <br>\n",
    "$\\implies$ $a$ must be true <br>\n",
    "$\\implies$ delete the multi-edges while also setting $a$ to true in the CNF <br>\n",
    "Similarly, for other cases."
   ]
  },
  {
   "cell_type": "markdown",
   "metadata": {
    "slideshow": {
     "slide_type": "slide"
    }
   },
   "source": [
    "## Result 2: Connected components suffice\n",
    "A simple graph $G$ is satisfiable <br>\n",
    "$\\iff$ every connected component of $G$ is satisfiable.\n",
    "\n",
    "#### Proof idea:\n",
    "* Each component can be solved independently."
   ]
  },
  {
   "cell_type": "markdown",
   "metadata": {
    "slideshow": {
     "slide_type": "fragment"
    }
   },
   "source": [
    "## Result 3: Subgraphs preserve unsat\n",
    "* $G$ (subgraph) $H$\n",
    "* $G$ unsatisfiable $\\implies$ $H$ unsatisfiable\n",
    "\n",
    "#### Proof idea:\n",
    "* To SAT we can add clauses.\n",
    "* To Graphs we can add edges."
   ]
  },
  {
   "cell_type": "markdown",
   "metadata": {
    "slideshow": {
     "slide_type": "slide"
    }
   },
   "source": [
    "## Result 4: Homeomorphism preserves sat + unsat\n",
    "\n",
    "*Homemorphic $\\equiv$ One graph can be obtained from another by edge subdivisions*.\n",
    "\n",
    "* $G$ (homeomorphic) $H$\n",
    "* $G$ unsatisfiable $\\iff$ H unsatisfiable\n",
    "\n",
    "#### ❗Deeper topological connections❗\n",
    "\n",
    "#### Proof idea:\n",
    "* Consider subgraphing\n",
    "* Literal-swapping\n",
    "* Equisatisfiability\n",
    "* Pendant-edges\n",
    "* Edge-subdivision\n",
    "* Paths\n",
    "* Edge-contraction for vertex-pairs <br>\n",
    "  (but along edges not contained in triangle) <br>\n",
    "  $\\qquad\\qquad\\vdots$"
   ]
  },
  {
   "cell_type": "markdown",
   "metadata": {
    "slideshow": {
     "slide_type": "slide"
    }
   },
   "source": [
    "## Result 5: Topological minors preserve unsat\n",
    "(Combines Result 3 and Result 4)\n",
    "* $G$ (topological minor) $H$\n",
    "* $G$ unsatisfiable $\\implies$ $H$ unsatisfiable\n",
    "    \n",
    "#### Proof:\n",
    "Follows from previous results."
   ]
  },
  {
   "cell_type": "markdown",
   "metadata": {
    "slideshow": {
     "slide_type": "slide"
    }
   },
   "source": [
    "## Satisfiable graphs families:\n",
    "\n",
    "* Line Graphs\n",
    "* Cycle Graphs, etc. $\\ldots$\n"
   ]
  },
  {
   "cell_type": "markdown",
   "metadata": {
    "slideshow": {
     "slide_type": "fragment"
    }
   },
   "source": [
    "## Unsatisfiable graph families:\n",
    "(needs Computational searching)"
   ]
  },
  {
   "cell_type": "markdown",
   "metadata": {
    "slideshow": {
     "slide_type": "fragment"
    }
   },
   "source": [
    "## Developed `graphsat`:\n",
    "* Python3+\n",
    "* Open-source (soon on PyPI)\n",
    "* Handles SAT instances\n",
    "* Handles Multi-Graphs\n",
    "* Handles Hyper-Graphs\n",
    "* Type-checked using python3's `typing` module\n",
    "* Software verification (coming soon...) <br>\n",
    "  (via Lean-Interactive-Theorem-Prover) <br>\n"
   ]
  },
  {
   "cell_type": "markdown",
   "metadata": {
    "slideshow": {
     "slide_type": "slide"
    }
   },
   "source": [
    "# Main result\n",
    "\n",
    "### Can we visually represent the obstructions to satisfiability?"
   ]
  },
  {
   "cell_type": "markdown",
   "metadata": {
    "slideshow": {
     "slide_type": "fragment"
    }
   },
   "source": [
    "<table>\n",
    "<td><img src=\"K4.png\" /></td>\n",
    "<td><img src=\"Butterfly.png\"/></td>\n",
    "<td><img src=\"K23.png\"/></td>\n",
    "<td><img src=\"bowtie.png\"/></td>\n",
    "</table>\n",
    "\n",
    "##### A graph $G$ is unsatisfiable iff it has one of these four as a topological minor."
   ]
  },
  {
   "cell_type": "markdown",
   "metadata": {
    "slideshow": {
     "slide_type": "slide"
    }
   },
   "source": [
    "# Extending to 3SAT\n",
    "\n",
    "### 3SAT instance $\\longmapsto$ Multi-Hyper-Graph"
   ]
  },
  {
   "cell_type": "markdown",
   "metadata": {
    "slideshow": {
     "slide_type": "fragment"
    }
   },
   "source": [
    "* Cannot avoid multi-edges\n",
    "  <br />\n",
    "\n",
    "* Exponential explosion of cases to analyze\n",
    "  <br />\n",
    "\n",
    "* Graph operations for HyperGraphs are more complex\n",
    "  <br />\n",
    "\n",
    "* Subtle effects on HyperGraph (un)satisfiability\n",
    "  <br />\n",
    "\n",
    "* Richer topology"
   ]
  },
  {
   "cell_type": "markdown",
   "metadata": {
    "slideshow": {
     "slide_type": "fragment"
    }
   },
   "source": [
    "## Key question: is the list of minimal criminals\n",
    "* finite or infinite?\n",
    " <br />\n",
    "\n",
    "* easy to characterize?"
   ]
  },
  {
   "cell_type": "markdown",
   "metadata": {
    "slideshow": {
     "slide_type": "slide"
    }
   },
   "source": [
    "<table>\n",
    "<td><img src=\"3sat_1.jpeg\" width=\"350\"/></td>\n",
    "<td><img src=\"3sat_2.jpeg\" width=\"350\"/></td>\n",
    "<td><img src=\"3sat_3.jpeg\" width=\"350\"/></td>\n",
    "</table>"
   ]
  },
  {
   "cell_type": "markdown",
   "metadata": {
    "slideshow": {
     "slide_type": "slide"
    }
   },
   "source": [
    "# Future work\n",
    "\n",
    "### Releasing the source-code for `graphsat`\n",
    "\n",
    "### Formal verification of the 2SAT result:\n",
    "\n",
    "* Coq\n",
    "<br />\n",
    "\n",
    "* Isabelle/HOL\n",
    "<br />\n",
    "\n",
    "* Lean <img src=\"lean.png\" width=\"150\"/>"
   ]
  },
  {
   "cell_type": "markdown",
   "metadata": {
    "slideshow": {
     "slide_type": "slide"
    }
   },
   "source": [
    "# Reference\n",
    "\n",
    "* [Preprint] **The complete set of minimal simple graphs that support unsatisfiable 2-CNFs** <br>\n",
    "  Vaibhav Karve, Anil Hirani <br>\n",
    "  [arxiv.org/abs/1812.10849](https://arxiv.org/abs/1812.10849)"
   ]
  }
 ],
 "metadata": {
  "celltoolbar": "Slideshow",
  "kernelspec": {
   "display_name": "SageMath 8.1",
   "language": "",
   "name": "sagemath"
  },
  "language_info": {
   "codemirror_mode": {
    "name": "ipython",
    "version": 2
   },
   "file_extension": ".py",
   "mimetype": "text/x-python",
   "name": "python",
   "nbconvert_exporter": "python",
   "pygments_lexer": "ipython2",
   "version": "2.7.15"
  }
 },
 "nbformat": 4,
 "nbformat_minor": 2
}
